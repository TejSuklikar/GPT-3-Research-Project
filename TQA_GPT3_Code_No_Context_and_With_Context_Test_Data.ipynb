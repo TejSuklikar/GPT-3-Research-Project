{
  "nbformat": 4,
  "nbformat_minor": 0,
  "metadata": {
    "colab": {
      "provenance": [],
      "collapsed_sections": [],
      "include_colab_link": true
    },
    "kernelspec": {
      "name": "python3",
      "display_name": "Python 3"
    },
    "language_info": {
      "name": "python"
    },
    "gpuClass": "standard"
  },
  "cells": [
    {
      "cell_type": "markdown",
      "metadata": {
        "id": "view-in-github",
        "colab_type": "text"
      },
      "source": [
        "<a href=\"https://colab.research.google.com/github/TejSuklikar/GPT-3-Research-Project/blob/main/TQA_GPT3_Code_No_Context_and_With_Context_Test_Data.ipynb\" target=\"_parent\"><img src=\"https://colab.research.google.com/assets/colab-badge.svg\" alt=\"Open In Colab\"/></a>"
      ]
    },
    {
      "cell_type": "markdown",
      "source": [
        "**Load the JSON File**"
      ],
      "metadata": {
        "id": "jeasOqu4mO19"
      }
    },
    {
      "cell_type": "code",
      "execution_count": null,
      "metadata": {
        "id": "VCOWtQSCppDb"
      },
      "outputs": [],
      "source": [
        "#Library\n",
        "import json\n",
        "import pandas as pd\n",
        "\n",
        "x = pd.read_json(\"/content/tqa_v2_test.json\")"
      ]
    },
    {
      "cell_type": "markdown",
      "source": [
        "Create a Content Table where each row is either a Topic or Adjunct Topic for a given lesson."
      ],
      "metadata": {
        "id": "Z-_m_d48mf-u"
      }
    },
    {
      "cell_type": "code",
      "source": [
        "from pandas.core.apply import Apply\n",
        "topics = x['topics']\n",
        "adjunctTopics = x['adjunctTopics']\n",
        "\n",
        "length = x.index.stop\n",
        "i=0\n",
        "contentTable = []\n",
        "while i < length:\n",
        "  for key in topics[i].keys():\n",
        "    contentTable.append( [x['globalID'][i], x['lessonName'][i], \"Topic\", \"\", key, topics[i][key]['content']['text']])\n",
        "    j = 0\n",
        "    for key in adjunctTopics[i].keys():\n",
        "      contentID = \"A_\" + str(i*1000+j)\n",
        "      if (key != 'Vocabulary'):\n",
        "        contentTable.append( [x['globalID'][i], x['lessonName'][i], \"Adjunct Topic\", str(key), contentID, adjunctTopics[i][str(key)]['content']['text']])\n",
        "      j+=1\n",
        "  i+=1\n"
      ],
      "metadata": {
        "id": "rzopxoLj0-jr"
      },
      "execution_count": null,
      "outputs": []
    },
    {
      "cell_type": "markdown",
      "source": [
        "Create a simpler Content Table with just Topic content"
      ],
      "metadata": {
        "id": "9K_6syvAm4EC"
      }
    },
    {
      "cell_type": "code",
      "source": [
        "from pandas.core.apply import Apply\n",
        "topics = x['topics']\n",
        "\n",
        "length = x.index.stop\n",
        "i=0\n",
        "contentqaTable = []\n",
        "while i < length:\n",
        "  for key in topics[i].keys():\n",
        "    content = topics[i][key]['content']['text']\n",
        "    contentqaTable.append([x['globalID'][i], content])\n",
        "  i+=1\n"
      ],
      "metadata": {
        "id": "g2HOQow0BbED"
      },
      "execution_count": null,
      "outputs": []
    },
    {
      "cell_type": "markdown",
      "source": [
        "Convert the content table to a Data Frame."
      ],
      "metadata": {
        "id": "jFDObow7nAyZ"
      }
    },
    {
      "cell_type": "code",
      "source": [
        "ct = pd.DataFrame(contentqaTable,columns=['id','context',])"
      ],
      "metadata": {
        "id": "mJgL1lpDFPjt"
      },
      "execution_count": null,
      "outputs": []
    },
    {
      "cell_type": "markdown",
      "source": [
        "Since there are multiple rows of content for each Lesson ID, get the unique Lesson IDs. This will be useful in constructing Prompts per lesson"
      ],
      "metadata": {
        "id": "DpfHON3nnH_m"
      }
    },
    {
      "cell_type": "code",
      "source": [
        "lessonIds = ct.id.unique()\n"
      ],
      "metadata": {
        "id": "NXzekAZm9Awy"
      },
      "execution_count": null,
      "outputs": []
    },
    {
      "cell_type": "markdown",
      "source": [
        "Create a consolidated Lesson Table with one row per Lesson, and all the associated content"
      ],
      "metadata": {
        "id": "CAAZ8FeinYHJ"
      }
    },
    {
      "cell_type": "code",
      "source": [
        "consolidatedLessonTable = []\n",
        "for l in lessonIds:\n",
        "  lessonContext = \"\"\n",
        "  lessonContents = ct[ct.id == l]\n",
        "  for index, row in lessonContents.iterrows():\n",
        "    lessonContext += row['context'] + \"\\n\"\n",
        "  consolidatedLessonTable.append([l,lessonContext])\n",
        "clt = pd.DataFrame(consolidatedLessonTable,columns=['id','content'])"
      ],
      "metadata": {
        "id": "7pXfdinYNn2p"
      },
      "execution_count": null,
      "outputs": []
    },
    {
      "cell_type": "markdown",
      "source": [
        "Create a Question Answer Table with the Questions, Answer Choices, and Correct Answer per row. Additionally the associated Lesson ID is also stored for looking up and joining to the Lesson Table content."
      ],
      "metadata": {
        "id": "srE7H6k2njGU"
      }
    },
    {
      "cell_type": "code",
      "source": [
        "questions = x['questions']\n",
        "length = x.index.stop\n",
        "i=0\n",
        "\n",
        "questionAnswerTable = []\n",
        "answerTable =[]\n",
        "while i < length:\n",
        "  for key in questions[i]['nonDiagramQuestions'].keys():\n",
        "    lessonID = x['globalID'][i]\n",
        "    lessonName = x['lessonName'][i]\n",
        "    questionID = key\n",
        "    questionText = questions[i]['nonDiagramQuestions'][key]['beingAsked']['processedText']\n",
        "    questionType = questions[i]['nonDiagramQuestions'][key]['questionType']\n",
        "    questionSubType = questions[i]['nonDiagramQuestions'][key]['questionSubType']\n",
        "    correctAnswerChoice = questions[i]['nonDiagramQuestions'][key]['correctAnswer']['processedText']\n",
        "    answerChoices = questions[i]['nonDiagramQuestions'][key]['answerChoices']\n",
        "    answerChoicesPrompt = \"\"\n",
        "    correctAnswerDetail = \"\"\n",
        "    #answer_start = content.find(correctAnswerChoice)\n",
        "    for key2 in questions[i]['nonDiagramQuestions'][key]['answerChoices'].keys():\n",
        "      answerChoicesPrompt = answerChoicesPrompt + questions[i]['nonDiagramQuestions'][key]['answerChoices'][key2]['rawText'] + \"; \"\n",
        "\n",
        "    answerChoicesPrompt = answerChoicesPrompt[:-2]  \n",
        "    questionAnswerTable.append([lessonID,questionText,correctAnswerChoice, answerChoicesPrompt])\n",
        "  i+=1"
      ],
      "metadata": {
        "id": "oAkfu6u1YrZo"
      },
      "execution_count": null,
      "outputs": []
    },
    {
      "cell_type": "code",
      "source": [
        "qat = pd.DataFrame(questionAnswerTable,columns=['id','question', 'correct answer', 'answer choices'])"
      ],
      "metadata": {
        "id": "rE6jnQ7mYyDI"
      },
      "execution_count": null,
      "outputs": []
    },
    {
      "cell_type": "code",
      "source": [
        "len(qat)"
      ],
      "metadata": {
        "colab": {
          "base_uri": "https://localhost:8080/"
        },
        "id": "_gNDtIvfWvJq",
        "outputId": "9a7b8b81-867b-492f-9907-15498aaca037"
      },
      "execution_count": null,
      "outputs": [
        {
          "output_type": "execute_result",
          "data": {
            "text/plain": [
              "2512"
            ]
          },
          "metadata": {},
          "execution_count": 9
        }
      ]
    },
    {
      "cell_type": "code",
      "source": [
        "qat.to_csv(\"qat_test.csv\")"
      ],
      "metadata": {
        "id": "icw3Bw-cYycX"
      },
      "execution_count": null,
      "outputs": []
    },
    {
      "cell_type": "markdown",
      "source": [
        "For the No Context Learning experiment, build a Prompt Table with just the prompt, Question plus Answer Choices. One Lesson per Row.\n",
        "\n",
        "For the Lesson Context Learning experiment, build a Prompt Table that combines the Lesson Content and Question plus Answer Choices in a single string. One Lesson per Row. \n",
        "\n",
        "Since the prompt needs to be less than 2,048 tokens, limit to only those lesson where the associatated prompts are less than 8,500 characters (discovered by trial and error using the tokenizer tool at https://beta.openai.com/tokenizer)\n"
      ],
      "metadata": {
        "id": "RkRMKKbeoIGG"
      }
    },
    {
      "cell_type": "code",
      "source": [
        "lessonContextPromptInstructions = \"Use the lesson text below to answer the following questions by picking one of the choices provided. Only include the letter of the answer choice listed. For example, 3.c.\\n\\n\"\n",
        "noContextPromptInstructions = \"Answer the following questions by picking one of the choices provided. Only include the letter of the answer choice listed.\\n\\n\"\n",
        "\n",
        "lessonContextPromptTable = []\n",
        "noContextPromptTable = []\n",
        "\n",
        "lessonContextAnswerKeyTable = []\n",
        "noContextAnswerKeyTable = []\n",
        "\n",
        "for i,l in clt.iterrows():\n",
        "  lcPrompt = lessonContextPromptInstructions + \"Lesson:\\n\" + l['content'] +\"\\n\\n\"+\"Questions:\\n\"\n",
        "  ncPrompt = noContextPromptInstructions + \"Questions:\\n\"  \n",
        "  lcAnswers = \"\"\n",
        "  lessonQAT = qat[qat.id == l['id']]\n",
        "  qnum = 1\n",
        "  for index,row in lessonQAT.iterrows():\n",
        "    lcPrompt = lcPrompt + str(qnum) + \". \" + row['question'] +\"\\n\" + row['answer choices'] + \"\\n\\n\"\n",
        "    ncPrompt = ncPrompt + str(qnum) + \". \" + row['question'] +\"\\n\" + row['answer choices'] + \"\\n\\n\"\n",
        "    lcAnswers = lcAnswers + str(qnum) + \". \" + row['correct answer'] + \"; \"\n",
        "    noContextAnswerKeyTable.append([l['id'],qnum,row['correct answer']])\n",
        "    qnum += 1\n",
        "      \n",
        "  lcAnswers = lcAnswers[:-2]\n",
        "\n",
        "  for i in range(qnum-1):\n",
        "    lcPrompt = lcPrompt + str(i+1) + \". ?\\n\"\n",
        "    ncPrompt = ncPrompt + str(i+1) + \". ?\\n\"\n",
        "\n",
        "  lcPrompt = lcPrompt + \"====\"\n",
        "  ncPrompt = ncPrompt + \"====\"\n",
        " \n",
        " # Since the prompt needs to be less than 2,048 tokens, limit to only those prompts that are less than 8,500 characters (discovered by trial and error using the tokenizer tool at https://beta.openai.com/tokenizer)\n",
        "  if (len(lcPrompt)<15000):\n",
        "    noContextPromptTable.append ([l['id'],ncPrompt])\n",
        "    lessonContextPromptTable.append ([l['id'],lcPrompt])\n",
        "    lessonContextAnswerKeyTable.append ([l['id'],lcAnswers])\n",
        "\n",
        "\n",
        "\n"
      ],
      "metadata": {
        "id": "398VRBcGxLMR"
      },
      "execution_count": null,
      "outputs": []
    },
    {
      "cell_type": "code",
      "source": [
        "lcpt = pd.DataFrame(lessonContextPromptTable,columns=['Lesson ID','Prompt'])\n",
        "lcakt = pd.DataFrame(lessonContextAnswerKeyTable,columns=['Lesson ID','Answers'])\n",
        "ncpt = pd.DataFrame(noContextPromptTable,columns=['Lesson ID','Prompt'])\n",
        "ncakt = pd.DataFrame(noContextAnswerKeyTable,columns=['Lesson ID','Question Number','Answer'])"
      ],
      "metadata": {
        "id": "gF65izsSxLKN"
      },
      "execution_count": null,
      "outputs": []
    },
    {
      "cell_type": "code",
      "source": [
        "len(lcakt)"
      ],
      "metadata": {
        "id": "KO6FGjcDVEIj",
        "colab": {
          "base_uri": "https://localhost:8080/"
        },
        "outputId": "cf9a5dea-1180-4434-c7b6-ace16cba4f24"
      },
      "execution_count": null,
      "outputs": [
        {
          "output_type": "execute_result",
          "data": {
            "text/plain": [
              "208"
            ]
          },
          "metadata": {},
          "execution_count": 132
        }
      ]
    },
    {
      "cell_type": "code",
      "source": [
        "lcpt['prompt length'] = lcpt.apply(lambda x: len(str(x['Prompt'])), axis=1)"
      ],
      "metadata": {
        "id": "uxuXLjM65j47"
      },
      "execution_count": null,
      "outputs": []
    },
    {
      "cell_type": "code",
      "source": [
        "lcpt.sort_values(by=['prompt length'], ascending=False)"
      ],
      "metadata": {
        "id": "o7S9gBSjwDYi",
        "colab": {
          "base_uri": "https://localhost:8080/",
          "height": 424
        },
        "outputId": "ba8d7c07-5e10-415a-c08b-feace92cf3eb"
      },
      "execution_count": null,
      "outputs": [
        {
          "output_type": "execute_result",
          "data": {
            "text/plain": [
              "    Lesson ID                                             Prompt  \\\n",
              "1      L_0013  Use the lesson text below to answer the follow...   \n",
              "175    L_0730  Use the lesson text below to answer the follow...   \n",
              "58     L_0382  Use the lesson text below to answer the follow...   \n",
              "173    L_0712  Use the lesson text below to answer the follow...   \n",
              "46     L_0365  Use the lesson text below to answer the follow...   \n",
              "..        ...                                                ...   \n",
              "112    L_0565  Use the lesson text below to answer the follow...   \n",
              "203    L_1020  Use the lesson text below to answer the follow...   \n",
              "206    L_1046  Use the lesson text below to answer the follow...   \n",
              "183    L_0826  Use the lesson text below to answer the follow...   \n",
              "194    L_0983  Use the lesson text below to answer the follow...   \n",
              "\n",
              "     prompt length  \n",
              "1            14575  \n",
              "175          14505  \n",
              "58           14078  \n",
              "173          13928  \n",
              "46           13747  \n",
              "..             ...  \n",
              "112           2095  \n",
              "203           2054  \n",
              "206           1910  \n",
              "183           1864  \n",
              "194           1680  \n",
              "\n",
              "[208 rows x 3 columns]"
            ],
            "text/html": [
              "\n",
              "  <div id=\"df-47f2e832-d0d7-445d-bf2d-70c151746d4d\">\n",
              "    <div class=\"colab-df-container\">\n",
              "      <div>\n",
              "<style scoped>\n",
              "    .dataframe tbody tr th:only-of-type {\n",
              "        vertical-align: middle;\n",
              "    }\n",
              "\n",
              "    .dataframe tbody tr th {\n",
              "        vertical-align: top;\n",
              "    }\n",
              "\n",
              "    .dataframe thead th {\n",
              "        text-align: right;\n",
              "    }\n",
              "</style>\n",
              "<table border=\"1\" class=\"dataframe\">\n",
              "  <thead>\n",
              "    <tr style=\"text-align: right;\">\n",
              "      <th></th>\n",
              "      <th>Lesson ID</th>\n",
              "      <th>Prompt</th>\n",
              "      <th>prompt length</th>\n",
              "    </tr>\n",
              "  </thead>\n",
              "  <tbody>\n",
              "    <tr>\n",
              "      <th>1</th>\n",
              "      <td>L_0013</td>\n",
              "      <td>Use the lesson text below to answer the follow...</td>\n",
              "      <td>14575</td>\n",
              "    </tr>\n",
              "    <tr>\n",
              "      <th>175</th>\n",
              "      <td>L_0730</td>\n",
              "      <td>Use the lesson text below to answer the follow...</td>\n",
              "      <td>14505</td>\n",
              "    </tr>\n",
              "    <tr>\n",
              "      <th>58</th>\n",
              "      <td>L_0382</td>\n",
              "      <td>Use the lesson text below to answer the follow...</td>\n",
              "      <td>14078</td>\n",
              "    </tr>\n",
              "    <tr>\n",
              "      <th>173</th>\n",
              "      <td>L_0712</td>\n",
              "      <td>Use the lesson text below to answer the follow...</td>\n",
              "      <td>13928</td>\n",
              "    </tr>\n",
              "    <tr>\n",
              "      <th>46</th>\n",
              "      <td>L_0365</td>\n",
              "      <td>Use the lesson text below to answer the follow...</td>\n",
              "      <td>13747</td>\n",
              "    </tr>\n",
              "    <tr>\n",
              "      <th>...</th>\n",
              "      <td>...</td>\n",
              "      <td>...</td>\n",
              "      <td>...</td>\n",
              "    </tr>\n",
              "    <tr>\n",
              "      <th>112</th>\n",
              "      <td>L_0565</td>\n",
              "      <td>Use the lesson text below to answer the follow...</td>\n",
              "      <td>2095</td>\n",
              "    </tr>\n",
              "    <tr>\n",
              "      <th>203</th>\n",
              "      <td>L_1020</td>\n",
              "      <td>Use the lesson text below to answer the follow...</td>\n",
              "      <td>2054</td>\n",
              "    </tr>\n",
              "    <tr>\n",
              "      <th>206</th>\n",
              "      <td>L_1046</td>\n",
              "      <td>Use the lesson text below to answer the follow...</td>\n",
              "      <td>1910</td>\n",
              "    </tr>\n",
              "    <tr>\n",
              "      <th>183</th>\n",
              "      <td>L_0826</td>\n",
              "      <td>Use the lesson text below to answer the follow...</td>\n",
              "      <td>1864</td>\n",
              "    </tr>\n",
              "    <tr>\n",
              "      <th>194</th>\n",
              "      <td>L_0983</td>\n",
              "      <td>Use the lesson text below to answer the follow...</td>\n",
              "      <td>1680</td>\n",
              "    </tr>\n",
              "  </tbody>\n",
              "</table>\n",
              "<p>208 rows × 3 columns</p>\n",
              "</div>\n",
              "      <button class=\"colab-df-convert\" onclick=\"convertToInteractive('df-47f2e832-d0d7-445d-bf2d-70c151746d4d')\"\n",
              "              title=\"Convert this dataframe to an interactive table.\"\n",
              "              style=\"display:none;\">\n",
              "        \n",
              "  <svg xmlns=\"http://www.w3.org/2000/svg\" height=\"24px\"viewBox=\"0 0 24 24\"\n",
              "       width=\"24px\">\n",
              "    <path d=\"M0 0h24v24H0V0z\" fill=\"none\"/>\n",
              "    <path d=\"M18.56 5.44l.94 2.06.94-2.06 2.06-.94-2.06-.94-.94-2.06-.94 2.06-2.06.94zm-11 1L8.5 8.5l.94-2.06 2.06-.94-2.06-.94L8.5 2.5l-.94 2.06-2.06.94zm10 10l.94 2.06.94-2.06 2.06-.94-2.06-.94-.94-2.06-.94 2.06-2.06.94z\"/><path d=\"M17.41 7.96l-1.37-1.37c-.4-.4-.92-.59-1.43-.59-.52 0-1.04.2-1.43.59L10.3 9.45l-7.72 7.72c-.78.78-.78 2.05 0 2.83L4 21.41c.39.39.9.59 1.41.59.51 0 1.02-.2 1.41-.59l7.78-7.78 2.81-2.81c.8-.78.8-2.07 0-2.86zM5.41 20L4 18.59l7.72-7.72 1.47 1.35L5.41 20z\"/>\n",
              "  </svg>\n",
              "      </button>\n",
              "      \n",
              "  <style>\n",
              "    .colab-df-container {\n",
              "      display:flex;\n",
              "      flex-wrap:wrap;\n",
              "      gap: 12px;\n",
              "    }\n",
              "\n",
              "    .colab-df-convert {\n",
              "      background-color: #E8F0FE;\n",
              "      border: none;\n",
              "      border-radius: 50%;\n",
              "      cursor: pointer;\n",
              "      display: none;\n",
              "      fill: #1967D2;\n",
              "      height: 32px;\n",
              "      padding: 0 0 0 0;\n",
              "      width: 32px;\n",
              "    }\n",
              "\n",
              "    .colab-df-convert:hover {\n",
              "      background-color: #E2EBFA;\n",
              "      box-shadow: 0px 1px 2px rgba(60, 64, 67, 0.3), 0px 1px 3px 1px rgba(60, 64, 67, 0.15);\n",
              "      fill: #174EA6;\n",
              "    }\n",
              "\n",
              "    [theme=dark] .colab-df-convert {\n",
              "      background-color: #3B4455;\n",
              "      fill: #D2E3FC;\n",
              "    }\n",
              "\n",
              "    [theme=dark] .colab-df-convert:hover {\n",
              "      background-color: #434B5C;\n",
              "      box-shadow: 0px 1px 3px 1px rgba(0, 0, 0, 0.15);\n",
              "      filter: drop-shadow(0px 1px 2px rgba(0, 0, 0, 0.3));\n",
              "      fill: #FFFFFF;\n",
              "    }\n",
              "  </style>\n",
              "\n",
              "      <script>\n",
              "        const buttonEl =\n",
              "          document.querySelector('#df-47f2e832-d0d7-445d-bf2d-70c151746d4d button.colab-df-convert');\n",
              "        buttonEl.style.display =\n",
              "          google.colab.kernel.accessAllowed ? 'block' : 'none';\n",
              "\n",
              "        async function convertToInteractive(key) {\n",
              "          const element = document.querySelector('#df-47f2e832-d0d7-445d-bf2d-70c151746d4d');\n",
              "          const dataTable =\n",
              "            await google.colab.kernel.invokeFunction('convertToInteractive',\n",
              "                                                     [key], {});\n",
              "          if (!dataTable) return;\n",
              "\n",
              "          const docLinkHtml = 'Like what you see? Visit the ' +\n",
              "            '<a target=\"_blank\" href=https://colab.research.google.com/notebooks/data_table.ipynb>data table notebook</a>'\n",
              "            + ' to learn more about interactive tables.';\n",
              "          element.innerHTML = '';\n",
              "          dataTable['output_type'] = 'display_data';\n",
              "          await google.colab.output.renderOutput(dataTable, element);\n",
              "          const docLink = document.createElement('div');\n",
              "          docLink.innerHTML = docLinkHtml;\n",
              "          element.appendChild(docLink);\n",
              "        }\n",
              "      </script>\n",
              "    </div>\n",
              "  </div>\n",
              "  "
            ]
          },
          "metadata": {},
          "execution_count": 134
        }
      ]
    },
    {
      "cell_type": "code",
      "source": [
        "lcpt.head(5)"
      ],
      "metadata": {
        "id": "4AdmfaJiyRRT",
        "colab": {
          "base_uri": "https://localhost:8080/",
          "height": 206
        },
        "outputId": "ace33754-a1e7-4018-c1ba-3fb904dda2c0"
      },
      "execution_count": null,
      "outputs": [
        {
          "output_type": "execute_result",
          "data": {
            "text/plain": [
              "  Lesson ID                                             Prompt  prompt length\n",
              "0    L_0001  Use the lesson text below to answer the follow...          18705\n",
              "1    L_0005  Use the lesson text below to answer the follow...           6672\n",
              "2    L_0013  Use the lesson text below to answer the follow...          14575\n",
              "3    L_0024  Use the lesson text below to answer the follow...           8788\n",
              "4    L_0026  Use the lesson text below to answer the follow...           9172"
            ],
            "text/html": [
              "\n",
              "  <div id=\"df-abe3c094-d865-4a03-8f25-aa46b5a32ff9\">\n",
              "    <div class=\"colab-df-container\">\n",
              "      <div>\n",
              "<style scoped>\n",
              "    .dataframe tbody tr th:only-of-type {\n",
              "        vertical-align: middle;\n",
              "    }\n",
              "\n",
              "    .dataframe tbody tr th {\n",
              "        vertical-align: top;\n",
              "    }\n",
              "\n",
              "    .dataframe thead th {\n",
              "        text-align: right;\n",
              "    }\n",
              "</style>\n",
              "<table border=\"1\" class=\"dataframe\">\n",
              "  <thead>\n",
              "    <tr style=\"text-align: right;\">\n",
              "      <th></th>\n",
              "      <th>Lesson ID</th>\n",
              "      <th>Prompt</th>\n",
              "      <th>prompt length</th>\n",
              "    </tr>\n",
              "  </thead>\n",
              "  <tbody>\n",
              "    <tr>\n",
              "      <th>0</th>\n",
              "      <td>L_0001</td>\n",
              "      <td>Use the lesson text below to answer the follow...</td>\n",
              "      <td>18705</td>\n",
              "    </tr>\n",
              "    <tr>\n",
              "      <th>1</th>\n",
              "      <td>L_0005</td>\n",
              "      <td>Use the lesson text below to answer the follow...</td>\n",
              "      <td>6672</td>\n",
              "    </tr>\n",
              "    <tr>\n",
              "      <th>2</th>\n",
              "      <td>L_0013</td>\n",
              "      <td>Use the lesson text below to answer the follow...</td>\n",
              "      <td>14575</td>\n",
              "    </tr>\n",
              "    <tr>\n",
              "      <th>3</th>\n",
              "      <td>L_0024</td>\n",
              "      <td>Use the lesson text below to answer the follow...</td>\n",
              "      <td>8788</td>\n",
              "    </tr>\n",
              "    <tr>\n",
              "      <th>4</th>\n",
              "      <td>L_0026</td>\n",
              "      <td>Use the lesson text below to answer the follow...</td>\n",
              "      <td>9172</td>\n",
              "    </tr>\n",
              "  </tbody>\n",
              "</table>\n",
              "</div>\n",
              "      <button class=\"colab-df-convert\" onclick=\"convertToInteractive('df-abe3c094-d865-4a03-8f25-aa46b5a32ff9')\"\n",
              "              title=\"Convert this dataframe to an interactive table.\"\n",
              "              style=\"display:none;\">\n",
              "        \n",
              "  <svg xmlns=\"http://www.w3.org/2000/svg\" height=\"24px\"viewBox=\"0 0 24 24\"\n",
              "       width=\"24px\">\n",
              "    <path d=\"M0 0h24v24H0V0z\" fill=\"none\"/>\n",
              "    <path d=\"M18.56 5.44l.94 2.06.94-2.06 2.06-.94-2.06-.94-.94-2.06-.94 2.06-2.06.94zm-11 1L8.5 8.5l.94-2.06 2.06-.94-2.06-.94L8.5 2.5l-.94 2.06-2.06.94zm10 10l.94 2.06.94-2.06 2.06-.94-2.06-.94-.94-2.06-.94 2.06-2.06.94z\"/><path d=\"M17.41 7.96l-1.37-1.37c-.4-.4-.92-.59-1.43-.59-.52 0-1.04.2-1.43.59L10.3 9.45l-7.72 7.72c-.78.78-.78 2.05 0 2.83L4 21.41c.39.39.9.59 1.41.59.51 0 1.02-.2 1.41-.59l7.78-7.78 2.81-2.81c.8-.78.8-2.07 0-2.86zM5.41 20L4 18.59l7.72-7.72 1.47 1.35L5.41 20z\"/>\n",
              "  </svg>\n",
              "      </button>\n",
              "      \n",
              "  <style>\n",
              "    .colab-df-container {\n",
              "      display:flex;\n",
              "      flex-wrap:wrap;\n",
              "      gap: 12px;\n",
              "    }\n",
              "\n",
              "    .colab-df-convert {\n",
              "      background-color: #E8F0FE;\n",
              "      border: none;\n",
              "      border-radius: 50%;\n",
              "      cursor: pointer;\n",
              "      display: none;\n",
              "      fill: #1967D2;\n",
              "      height: 32px;\n",
              "      padding: 0 0 0 0;\n",
              "      width: 32px;\n",
              "    }\n",
              "\n",
              "    .colab-df-convert:hover {\n",
              "      background-color: #E2EBFA;\n",
              "      box-shadow: 0px 1px 2px rgba(60, 64, 67, 0.3), 0px 1px 3px 1px rgba(60, 64, 67, 0.15);\n",
              "      fill: #174EA6;\n",
              "    }\n",
              "\n",
              "    [theme=dark] .colab-df-convert {\n",
              "      background-color: #3B4455;\n",
              "      fill: #D2E3FC;\n",
              "    }\n",
              "\n",
              "    [theme=dark] .colab-df-convert:hover {\n",
              "      background-color: #434B5C;\n",
              "      box-shadow: 0px 1px 3px 1px rgba(0, 0, 0, 0.15);\n",
              "      filter: drop-shadow(0px 1px 2px rgba(0, 0, 0, 0.3));\n",
              "      fill: #FFFFFF;\n",
              "    }\n",
              "  </style>\n",
              "\n",
              "      <script>\n",
              "        const buttonEl =\n",
              "          document.querySelector('#df-abe3c094-d865-4a03-8f25-aa46b5a32ff9 button.colab-df-convert');\n",
              "        buttonEl.style.display =\n",
              "          google.colab.kernel.accessAllowed ? 'block' : 'none';\n",
              "\n",
              "        async function convertToInteractive(key) {\n",
              "          const element = document.querySelector('#df-abe3c094-d865-4a03-8f25-aa46b5a32ff9');\n",
              "          const dataTable =\n",
              "            await google.colab.kernel.invokeFunction('convertToInteractive',\n",
              "                                                     [key], {});\n",
              "          if (!dataTable) return;\n",
              "\n",
              "          const docLinkHtml = 'Like what you see? Visit the ' +\n",
              "            '<a target=\"_blank\" href=https://colab.research.google.com/notebooks/data_table.ipynb>data table notebook</a>'\n",
              "            + ' to learn more about interactive tables.';\n",
              "          element.innerHTML = '';\n",
              "          dataTable['output_type'] = 'display_data';\n",
              "          await google.colab.output.renderOutput(dataTable, element);\n",
              "          const docLink = document.createElement('div');\n",
              "          docLink.innerHTML = docLinkHtml;\n",
              "          element.appendChild(docLink);\n",
              "        }\n",
              "      </script>\n",
              "    </div>\n",
              "  </div>\n",
              "  "
            ]
          },
          "metadata": {},
          "execution_count": 126
        }
      ]
    },
    {
      "cell_type": "code",
      "source": [
        "lcpt.to_csv(\"lcpt_test.csv\")"
      ],
      "metadata": {
        "id": "BajD-FruShmd"
      },
      "execution_count": null,
      "outputs": []
    },
    {
      "cell_type": "code",
      "source": [
        "lcakt.to_csv(\"lcakt_test.csv\")\n",
        "ncpt.to_csv(\"ncpt_test.csv\")\n",
        "ncakt.to_csv(\"ncakt_test.csv\")"
      ],
      "metadata": {
        "id": "zXBgYvHBykE8"
      },
      "execution_count": null,
      "outputs": []
    },
    {
      "cell_type": "code",
      "source": [
        "!pip install --upgrade openai"
      ],
      "metadata": {
        "colab": {
          "base_uri": "https://localhost:8080/",
          "height": 662
        },
        "id": "3bPtsnWRwdUf",
        "outputId": "42f289e4-d31a-4be4-cedc-649e43b067f5"
      },
      "execution_count": null,
      "outputs": [
        {
          "output_type": "stream",
          "name": "stdout",
          "text": [
            "Looking in indexes: https://pypi.org/simple, https://us-python.pkg.dev/colab-wheels/public/simple/\n",
            "Collecting openai\n",
            "  Downloading openai-0.23.0.tar.gz (43 kB)\n",
            "\u001b[K     |████████████████████████████████| 43 kB 1.8 MB/s \n",
            "\u001b[?25h  Installing build dependencies ... \u001b[?25l\u001b[?25hdone\n",
            "  Getting requirements to build wheel ... \u001b[?25l\u001b[?25hdone\n",
            "    Preparing wheel metadata ... \u001b[?25l\u001b[?25hdone\n",
            "Requirement already satisfied: tqdm in /usr/local/lib/python3.7/dist-packages (from openai) (4.64.1)\n",
            "Requirement already satisfied: requests>=2.20 in /usr/local/lib/python3.7/dist-packages (from openai) (2.23.0)\n",
            "Requirement already satisfied: openpyxl>=3.0.7 in /usr/local/lib/python3.7/dist-packages (from openai) (3.0.10)\n",
            "Requirement already satisfied: numpy in /usr/local/lib/python3.7/dist-packages (from openai) (1.21.6)\n",
            "Requirement already satisfied: pandas>=1.2.3 in /usr/local/lib/python3.7/dist-packages (from openai) (1.3.5)\n",
            "Collecting pandas-stubs>=1.1.0.11\n",
            "  Downloading pandas_stubs-1.2.0.62-py3-none-any.whl (163 kB)\n",
            "\u001b[K     |████████████████████████████████| 163 kB 56.9 MB/s \n",
            "\u001b[?25hRequirement already satisfied: typing-extensions in /usr/local/lib/python3.7/dist-packages (from openai) (4.1.1)\n",
            "Requirement already satisfied: et-xmlfile in /usr/local/lib/python3.7/dist-packages (from openpyxl>=3.0.7->openai) (1.1.0)\n",
            "Requirement already satisfied: python-dateutil>=2.7.3 in /usr/local/lib/python3.7/dist-packages (from pandas>=1.2.3->openai) (2.8.2)\n",
            "Requirement already satisfied: pytz>=2017.3 in /usr/local/lib/python3.7/dist-packages (from pandas>=1.2.3->openai) (2022.2.1)\n",
            "Requirement already satisfied: six>=1.5 in /usr/local/lib/python3.7/dist-packages (from python-dateutil>=2.7.3->pandas>=1.2.3->openai) (1.15.0)\n",
            "Requirement already satisfied: chardet<4,>=3.0.2 in /usr/local/lib/python3.7/dist-packages (from requests>=2.20->openai) (3.0.4)\n",
            "Requirement already satisfied: idna<3,>=2.5 in /usr/local/lib/python3.7/dist-packages (from requests>=2.20->openai) (2.10)\n",
            "Requirement already satisfied: urllib3!=1.25.0,!=1.25.1,<1.26,>=1.21.1 in /usr/local/lib/python3.7/dist-packages (from requests>=2.20->openai) (1.24.3)\n",
            "Requirement already satisfied: certifi>=2017.4.17 in /usr/local/lib/python3.7/dist-packages (from requests>=2.20->openai) (2022.6.15)\n",
            "Building wheels for collected packages: openai\n",
            "  Building wheel for openai (PEP 517) ... \u001b[?25l\u001b[?25hdone\n",
            "  Created wheel for openai: filename=openai-0.23.0-py3-none-any.whl size=54478 sha256=e6f899b3c52c2bb60951248c6bfad02c344c3798c5fc77e16af2718e8093d2f6\n",
            "  Stored in directory: /root/.cache/pip/wheels/70/d5/31/f9f67660319d89e4f54501d27b1e90f88a3309c42ea4fd734c\n",
            "Successfully built openai\n",
            "Installing collected packages: pandas-stubs, openai\n",
            "Successfully installed openai-0.23.0 pandas-stubs-1.2.0.62\n"
          ]
        },
        {
          "output_type": "display_data",
          "data": {
            "application/vnd.colab-display-data+json": {
              "pip_warning": {
                "packages": [
                  "pandas"
                ]
              }
            }
          },
          "metadata": {}
        }
      ]
    },
    {
      "cell_type": "code",
      "source": [
        "\n",
        "OPENAI_API_KEY=\"Your API Key\""
      ],
      "metadata": {
        "id": "le4jed1vyTJ-"
      },
      "execution_count": null,
      "outputs": []
    },
    {
      "cell_type": "code",
      "source": [
        "def response_to_table (lId, r, answer_table):\n",
        "  answer_list = r.strip().split(\"\\n\")\n",
        "  for i in answer_list:\n",
        "    row = i.split(\".\")\n",
        "    answer_table.append([lId, row[0],row[1].strip()])\n",
        "  return answer_table"
      ],
      "metadata": {
        "id": "oGDvzboFeD7y"
      },
      "execution_count": null,
      "outputs": []
    },
    {
      "cell_type": "code",
      "source": [
        "def lesson_answer (lId,p,answerTable):\n",
        "  import os\n",
        "  import openai\n",
        "\n",
        "  openai.api_key = OPENAI_API_KEY\n",
        "\n",
        "  start_sequence = \"\\nA:\"\n",
        "  restart_sequence = \"\\n\\nQ: \"\n",
        "\n",
        "  response = openai.Completion.create(\n",
        "    model=\"text-davinci-002\",\n",
        "    prompt=p,\n",
        "    temperature=0,\n",
        "    max_tokens=200,\n",
        "    top_p=1,\n",
        "    frequency_penalty=0,\n",
        "    presence_penalty=0,\n",
        "    stop=[\"====\"]\n",
        "  )\n",
        " # if response['choices'][0]['finish_reason']=='stop':\n",
        "  answerTable = response_to_table (lId, response['choices'][0]['text'],answerTable)\n",
        "  \n",
        "  return answerTable"
      ],
      "metadata": {
        "id": "rsnzcsa7YC3Q"
      },
      "execution_count": null,
      "outputs": []
    },
    {
      "cell_type": "markdown",
      "source": [
        "Test it out with one lesson"
      ],
      "metadata": {
        "id": "NIfeWpoggoQJ"
      }
    },
    {
      "cell_type": "code",
      "source": [
        "import os\n",
        "import openai\n",
        "\n",
        "openai.api_key = OPENAI_API_KEY\n",
        "\n",
        "start_sequence = \"\\nA:\"\n",
        "restart_sequence = \"\\n\\nQ: \"\n",
        "\n",
        "response = openai.Completion.create(\n",
        "    model=\"text-davinci-002\",\n",
        "    prompt=lcpt['Prompt'][175],\n",
        "    temperature=0,\n",
        "    max_tokens=200,\n",
        "    top_p=1,\n",
        "    frequency_penalty=0,\n",
        "    presence_penalty=0,\n",
        "    stop=[\"====\"]\n",
        "  )"
      ],
      "metadata": {
        "id": "w4PMH-Xh-zPs"
      },
      "execution_count": null,
      "outputs": []
    },
    {
      "cell_type": "code",
      "source": [
        "print (response)"
      ],
      "metadata": {
        "id": "mONHJHLm-FVq",
        "colab": {
          "base_uri": "https://localhost:8080/"
        },
        "outputId": "214782fb-897b-4e5b-d65e-17b41982f98c"
      },
      "execution_count": null,
      "outputs": [
        {
          "output_type": "stream",
          "name": "stdout",
          "text": [
            "{\n",
            "  \"choices\": [\n",
            "    {\n",
            "      \"finish_reason\": \"stop\",\n",
            "      \"index\": 0,\n",
            "      \"logprobs\": null,\n",
            "      \"text\": \"\\n\\n1. b\\n2. a\\n3. b\\n4. d\\n5. c\\n6. d\\n7. a\\n8. b\\n9. b\\n10. c\\n11. a\\n12. a\\n13. b\\n14. b\\n15. a\\n16. a\\n17. b\\n18. a\\n19. a\\n20. a\\n21. b\\n22. c\\n23. a\\n24. b\\n25. a\\n26. a\\n27. b\\n28. c\\n29. d\\n30. g\\n31. b\\n32. e\\n33. f\\n34. a\"\n",
            "    }\n",
            "  ],\n",
            "  \"created\": 1663524803,\n",
            "  \"id\": \"cmpl-5rt59Y0FoueOycvOu1Sf6rx3glWzt\",\n",
            "  \"model\": \"text-davinci-002\",\n",
            "  \"object\": \"text_completion\",\n",
            "  \"usage\": {\n",
            "    \"completion_tokens\": 137,\n",
            "    \"prompt_tokens\": 3654,\n",
            "    \"total_tokens\": 3791\n",
            "  }\n",
            "}\n"
          ]
        }
      ]
    },
    {
      "cell_type": "markdown",
      "source": [
        "Run the experiment with Lesson Context, 50 prompts at a time"
      ],
      "metadata": {
        "id": "DMO8anAghA_O"
      }
    },
    {
      "cell_type": "code",
      "source": [
        "lcResultsTable = []"
      ],
      "metadata": {
        "id": "HuaQXrMHhRDR"
      },
      "execution_count": null,
      "outputs": []
    },
    {
      "cell_type": "code",
      "source": [
        "print (lcpt.iloc[49])"
      ],
      "metadata": {
        "colab": {
          "base_uri": "https://localhost:8080/"
        },
        "id": "d1vHabu_zs0H",
        "outputId": "c5eb1fa0-f4f1-4233-949a-c71edbd0ddfa"
      },
      "execution_count": null,
      "outputs": [
        {
          "output_type": "stream",
          "name": "stdout",
          "text": [
            "Lesson ID                                                   L_0368\n",
            "Prompt           Use the lesson text below to answer the follow...\n",
            "prompt length                                                12744\n",
            "Name: 49, dtype: object\n"
          ]
        }
      ]
    },
    {
      "cell_type": "code",
      "source": [
        "subsetTable = lcpt.iloc[38:49]\n",
        "for row in subsetTable.itertuples():\n",
        "  lcResultsTable = lesson_answer(row[1],row[2], lcResultsTable)\n"
      ],
      "metadata": {
        "id": "d0FRnjLeKOk_",
        "colab": {
          "base_uri": "https://localhost:8080/",
          "height": 329
        },
        "outputId": "cc0ab096-1693-4701-b7c2-4bfd9841fb4d"
      },
      "execution_count": null,
      "outputs": [
        {
          "output_type": "error",
          "ename": "IndexError",
          "evalue": "ignored",
          "traceback": [
            "\u001b[0;31m---------------------------------------------------------------------------\u001b[0m",
            "\u001b[0;31mIndexError\u001b[0m                                Traceback (most recent call last)",
            "\u001b[0;32m<ipython-input-155-9210e0fc0b2a>\u001b[0m in \u001b[0;36m<module>\u001b[0;34m\u001b[0m\n\u001b[1;32m      1\u001b[0m \u001b[0msubsetTable\u001b[0m \u001b[0;34m=\u001b[0m \u001b[0mlcpt\u001b[0m\u001b[0;34m.\u001b[0m\u001b[0miloc\u001b[0m\u001b[0;34m[\u001b[0m\u001b[0;36m38\u001b[0m\u001b[0;34m:\u001b[0m\u001b[0;36m49\u001b[0m\u001b[0;34m]\u001b[0m\u001b[0;34m\u001b[0m\u001b[0;34m\u001b[0m\u001b[0m\n\u001b[1;32m      2\u001b[0m \u001b[0;32mfor\u001b[0m \u001b[0mrow\u001b[0m \u001b[0;32min\u001b[0m \u001b[0msubsetTable\u001b[0m\u001b[0;34m.\u001b[0m\u001b[0mitertuples\u001b[0m\u001b[0;34m(\u001b[0m\u001b[0;34m)\u001b[0m\u001b[0;34m:\u001b[0m\u001b[0;34m\u001b[0m\u001b[0;34m\u001b[0m\u001b[0m\n\u001b[0;32m----> 3\u001b[0;31m   \u001b[0mlcResultsTable\u001b[0m \u001b[0;34m=\u001b[0m \u001b[0mlesson_answer\u001b[0m\u001b[0;34m(\u001b[0m\u001b[0mrow\u001b[0m\u001b[0;34m[\u001b[0m\u001b[0;36m1\u001b[0m\u001b[0;34m]\u001b[0m\u001b[0;34m,\u001b[0m\u001b[0mrow\u001b[0m\u001b[0;34m[\u001b[0m\u001b[0;36m2\u001b[0m\u001b[0;34m]\u001b[0m\u001b[0;34m,\u001b[0m \u001b[0mlcResultsTable\u001b[0m\u001b[0;34m)\u001b[0m\u001b[0;34m\u001b[0m\u001b[0;34m\u001b[0m\u001b[0m\n\u001b[0m",
            "\u001b[0;32m<ipython-input-128-978907013384>\u001b[0m in \u001b[0;36mlesson_answer\u001b[0;34m(lId, p, answerTable)\u001b[0m\n\u001b[1;32m     19\u001b[0m   )\n\u001b[1;32m     20\u001b[0m  \u001b[0;31m# if response['choices'][0]['finish_reason']=='stop':\u001b[0m\u001b[0;34m\u001b[0m\u001b[0;34m\u001b[0m\u001b[0;34m\u001b[0m\u001b[0m\n\u001b[0;32m---> 21\u001b[0;31m   \u001b[0manswerTable\u001b[0m \u001b[0;34m=\u001b[0m \u001b[0mresponse_to_table\u001b[0m \u001b[0;34m(\u001b[0m\u001b[0mlId\u001b[0m\u001b[0;34m,\u001b[0m \u001b[0mresponse\u001b[0m\u001b[0;34m[\u001b[0m\u001b[0;34m'choices'\u001b[0m\u001b[0;34m]\u001b[0m\u001b[0;34m[\u001b[0m\u001b[0;36m0\u001b[0m\u001b[0;34m]\u001b[0m\u001b[0;34m[\u001b[0m\u001b[0;34m'text'\u001b[0m\u001b[0;34m]\u001b[0m\u001b[0;34m,\u001b[0m\u001b[0manswerTable\u001b[0m\u001b[0;34m)\u001b[0m\u001b[0;34m\u001b[0m\u001b[0;34m\u001b[0m\u001b[0m\n\u001b[0m\u001b[1;32m     22\u001b[0m \u001b[0;34m\u001b[0m\u001b[0m\n\u001b[1;32m     23\u001b[0m   \u001b[0;32mreturn\u001b[0m \u001b[0manswerTable\u001b[0m\u001b[0;34m\u001b[0m\u001b[0;34m\u001b[0m\u001b[0m\n",
            "\u001b[0;32m<ipython-input-127-5683e4e78837>\u001b[0m in \u001b[0;36mresponse_to_table\u001b[0;34m(lId, r, answer_table)\u001b[0m\n\u001b[1;32m      3\u001b[0m   \u001b[0;32mfor\u001b[0m \u001b[0mi\u001b[0m \u001b[0;32min\u001b[0m \u001b[0manswer_list\u001b[0m\u001b[0;34m:\u001b[0m\u001b[0;34m\u001b[0m\u001b[0;34m\u001b[0m\u001b[0m\n\u001b[1;32m      4\u001b[0m     \u001b[0mrow\u001b[0m \u001b[0;34m=\u001b[0m \u001b[0mi\u001b[0m\u001b[0;34m.\u001b[0m\u001b[0msplit\u001b[0m\u001b[0;34m(\u001b[0m\u001b[0;34m\".\"\u001b[0m\u001b[0;34m)\u001b[0m\u001b[0;34m\u001b[0m\u001b[0;34m\u001b[0m\u001b[0m\n\u001b[0;32m----> 5\u001b[0;31m     \u001b[0manswer_table\u001b[0m\u001b[0;34m.\u001b[0m\u001b[0mappend\u001b[0m\u001b[0;34m(\u001b[0m\u001b[0;34m[\u001b[0m\u001b[0mlId\u001b[0m\u001b[0;34m,\u001b[0m \u001b[0mrow\u001b[0m\u001b[0;34m[\u001b[0m\u001b[0;36m0\u001b[0m\u001b[0;34m]\u001b[0m\u001b[0;34m,\u001b[0m\u001b[0mrow\u001b[0m\u001b[0;34m[\u001b[0m\u001b[0;36m1\u001b[0m\u001b[0;34m]\u001b[0m\u001b[0;34m.\u001b[0m\u001b[0mstrip\u001b[0m\u001b[0;34m(\u001b[0m\u001b[0;34m)\u001b[0m\u001b[0;34m]\u001b[0m\u001b[0;34m)\u001b[0m\u001b[0;34m\u001b[0m\u001b[0;34m\u001b[0m\u001b[0m\n\u001b[0m\u001b[1;32m      6\u001b[0m   \u001b[0;32mreturn\u001b[0m \u001b[0manswer_table\u001b[0m\u001b[0;34m\u001b[0m\u001b[0;34m\u001b[0m\u001b[0m\n",
            "\u001b[0;31mIndexError\u001b[0m: list index out of range"
          ]
        }
      ]
    },
    {
      "cell_type": "code",
      "source": [
        "print(len(lcResultsTable))"
      ],
      "metadata": {
        "colab": {
          "base_uri": "https://localhost:8080/"
        },
        "id": "ITU0wOIM0q7-",
        "outputId": "79066984-04f1-4993-d634-7c8630a88ca9"
      },
      "execution_count": null,
      "outputs": [
        {
          "output_type": "stream",
          "name": "stdout",
          "text": [
            "681\n"
          ]
        }
      ]
    },
    {
      "cell_type": "code",
      "source": [
        "print(lcResultsTable[680])"
      ],
      "metadata": {
        "colab": {
          "base_uri": "https://localhost:8080/"
        },
        "id": "Nrlz21Lw0z2S",
        "outputId": "310e9872-4091-48d1-872c-c0a88ade7e99"
      },
      "execution_count": null,
      "outputs": [
        {
          "output_type": "stream",
          "name": "stdout",
          "text": [
            "['L_0365', 'a', 'stoneworts; b']\n"
          ]
        }
      ]
    },
    {
      "cell_type": "code",
      "source": [
        "ncResultsTable = []"
      ],
      "metadata": {
        "id": "zXbBxWbrkJlM"
      },
      "execution_count": null,
      "outputs": []
    },
    {
      "cell_type": "code",
      "source": [
        "subsetTable = ncpt.iloc[36:37]\n",
        "for row in subsetTable.itertuples():\n",
        "  ncResultsTable = lesson_answer(row[1],row[2], ncResultsTable)"
      ],
      "metadata": {
        "id": "7EDonJ-GDbko",
        "colab": {
          "base_uri": "https://localhost:8080/",
          "height": 329
        },
        "outputId": "f609f05b-e358-4691-d4d5-64309a2c461f"
      },
      "execution_count": null,
      "outputs": [
        {
          "output_type": "error",
          "ename": "IndexError",
          "evalue": "ignored",
          "traceback": [
            "\u001b[0;31m---------------------------------------------------------------------------\u001b[0m",
            "\u001b[0;31mIndexError\u001b[0m                                Traceback (most recent call last)",
            "\u001b[0;32m<ipython-input-87-ae4334f6bf80>\u001b[0m in \u001b[0;36m<module>\u001b[0;34m\u001b[0m\n\u001b[1;32m      1\u001b[0m \u001b[0msubsetTable\u001b[0m \u001b[0;34m=\u001b[0m \u001b[0mncpt\u001b[0m\u001b[0;34m.\u001b[0m\u001b[0miloc\u001b[0m\u001b[0;34m[\u001b[0m\u001b[0;36m36\u001b[0m\u001b[0;34m:\u001b[0m\u001b[0;36m37\u001b[0m\u001b[0;34m]\u001b[0m\u001b[0;34m\u001b[0m\u001b[0;34m\u001b[0m\u001b[0m\n\u001b[1;32m      2\u001b[0m \u001b[0;32mfor\u001b[0m \u001b[0mrow\u001b[0m \u001b[0;32min\u001b[0m \u001b[0msubsetTable\u001b[0m\u001b[0;34m.\u001b[0m\u001b[0mitertuples\u001b[0m\u001b[0;34m(\u001b[0m\u001b[0;34m)\u001b[0m\u001b[0;34m:\u001b[0m\u001b[0;34m\u001b[0m\u001b[0;34m\u001b[0m\u001b[0m\n\u001b[0;32m----> 3\u001b[0;31m   \u001b[0mncResultsTable\u001b[0m \u001b[0;34m=\u001b[0m \u001b[0mlesson_answer\u001b[0m\u001b[0;34m(\u001b[0m\u001b[0mrow\u001b[0m\u001b[0;34m[\u001b[0m\u001b[0;36m1\u001b[0m\u001b[0;34m]\u001b[0m\u001b[0;34m,\u001b[0m\u001b[0mrow\u001b[0m\u001b[0;34m[\u001b[0m\u001b[0;36m2\u001b[0m\u001b[0;34m]\u001b[0m\u001b[0;34m,\u001b[0m \u001b[0mncResultsTable\u001b[0m\u001b[0;34m)\u001b[0m\u001b[0;34m\u001b[0m\u001b[0;34m\u001b[0m\u001b[0m\n\u001b[0m",
            "\u001b[0;32m<ipython-input-55-18fb11c7c091>\u001b[0m in \u001b[0;36mlesson_answer\u001b[0;34m(lId, p, answerTable)\u001b[0m\n\u001b[1;32m     19\u001b[0m   )\n\u001b[1;32m     20\u001b[0m   \u001b[0;32mif\u001b[0m \u001b[0mresponse\u001b[0m\u001b[0;34m[\u001b[0m\u001b[0;34m'choices'\u001b[0m\u001b[0;34m]\u001b[0m\u001b[0;34m[\u001b[0m\u001b[0;36m0\u001b[0m\u001b[0;34m]\u001b[0m\u001b[0;34m[\u001b[0m\u001b[0;34m'finish_reason'\u001b[0m\u001b[0;34m]\u001b[0m\u001b[0;34m==\u001b[0m\u001b[0;34m'stop'\u001b[0m\u001b[0;34m:\u001b[0m\u001b[0;34m\u001b[0m\u001b[0;34m\u001b[0m\u001b[0m\n\u001b[0;32m---> 21\u001b[0;31m     \u001b[0manswerTable\u001b[0m \u001b[0;34m=\u001b[0m \u001b[0mresponse_to_table\u001b[0m \u001b[0;34m(\u001b[0m\u001b[0mlId\u001b[0m\u001b[0;34m,\u001b[0m \u001b[0mresponse\u001b[0m\u001b[0;34m[\u001b[0m\u001b[0;34m'choices'\u001b[0m\u001b[0;34m]\u001b[0m\u001b[0;34m[\u001b[0m\u001b[0;36m0\u001b[0m\u001b[0;34m]\u001b[0m\u001b[0;34m[\u001b[0m\u001b[0;34m'text'\u001b[0m\u001b[0;34m]\u001b[0m\u001b[0;34m,\u001b[0m\u001b[0manswerTable\u001b[0m\u001b[0;34m)\u001b[0m\u001b[0;34m\u001b[0m\u001b[0;34m\u001b[0m\u001b[0m\n\u001b[0m\u001b[1;32m     22\u001b[0m \u001b[0;34m\u001b[0m\u001b[0m\n\u001b[1;32m     23\u001b[0m   \u001b[0;32mreturn\u001b[0m \u001b[0manswerTable\u001b[0m\u001b[0;34m\u001b[0m\u001b[0;34m\u001b[0m\u001b[0m\n",
            "\u001b[0;32m<ipython-input-54-5683e4e78837>\u001b[0m in \u001b[0;36mresponse_to_table\u001b[0;34m(lId, r, answer_table)\u001b[0m\n\u001b[1;32m      3\u001b[0m   \u001b[0;32mfor\u001b[0m \u001b[0mi\u001b[0m \u001b[0;32min\u001b[0m \u001b[0manswer_list\u001b[0m\u001b[0;34m:\u001b[0m\u001b[0;34m\u001b[0m\u001b[0;34m\u001b[0m\u001b[0m\n\u001b[1;32m      4\u001b[0m     \u001b[0mrow\u001b[0m \u001b[0;34m=\u001b[0m \u001b[0mi\u001b[0m\u001b[0;34m.\u001b[0m\u001b[0msplit\u001b[0m\u001b[0;34m(\u001b[0m\u001b[0;34m\".\"\u001b[0m\u001b[0;34m)\u001b[0m\u001b[0;34m\u001b[0m\u001b[0;34m\u001b[0m\u001b[0m\n\u001b[0;32m----> 5\u001b[0;31m     \u001b[0manswer_table\u001b[0m\u001b[0;34m.\u001b[0m\u001b[0mappend\u001b[0m\u001b[0;34m(\u001b[0m\u001b[0;34m[\u001b[0m\u001b[0mlId\u001b[0m\u001b[0;34m,\u001b[0m \u001b[0mrow\u001b[0m\u001b[0;34m[\u001b[0m\u001b[0;36m0\u001b[0m\u001b[0;34m]\u001b[0m\u001b[0;34m,\u001b[0m\u001b[0mrow\u001b[0m\u001b[0;34m[\u001b[0m\u001b[0;36m1\u001b[0m\u001b[0;34m]\u001b[0m\u001b[0;34m.\u001b[0m\u001b[0mstrip\u001b[0m\u001b[0;34m(\u001b[0m\u001b[0;34m)\u001b[0m\u001b[0;34m]\u001b[0m\u001b[0;34m)\u001b[0m\u001b[0;34m\u001b[0m\u001b[0;34m\u001b[0m\u001b[0m\n\u001b[0m\u001b[1;32m      6\u001b[0m   \u001b[0;32mreturn\u001b[0m \u001b[0manswer_table\u001b[0m\u001b[0;34m\u001b[0m\u001b[0;34m\u001b[0m\u001b[0m\n",
            "\u001b[0;31mIndexError\u001b[0m: list index out of range"
          ]
        }
      ]
    },
    {
      "cell_type": "code",
      "source": [
        "print(len(ncResultsTable),\n",
        "len(ncakt))"
      ],
      "metadata": {
        "id": "i8xo9YN92raG",
        "colab": {
          "base_uri": "https://localhost:8080/"
        },
        "outputId": "32a2f310-c7ce-48b1-f73d-13e43f191086"
      },
      "execution_count": null,
      "outputs": [
        {
          "output_type": "stream",
          "name": "stdout",
          "text": [
            "1407 2512\n"
          ]
        }
      ]
    },
    {
      "cell_type": "code",
      "source": [
        "print (ncResultsTable[1226])"
      ],
      "metadata": {
        "colab": {
          "base_uri": "https://localhost:8080/"
        },
        "id": "SNp7C9cpm0dW",
        "outputId": "1b01c416-b8e8-4c7b-c50b-b52163bc6a8e"
      },
      "execution_count": null,
      "outputs": [
        {
          "output_type": "stream",
          "name": "stdout",
          "text": [
            "['L_0699', '7', 'b']\n"
          ]
        }
      ]
    },
    {
      "cell_type": "code",
      "source": [
        "print (ncResultsTable[1406])"
      ],
      "metadata": {
        "id": "VIOeC88JPO_Q",
        "colab": {
          "base_uri": "https://localhost:8080/"
        },
        "outputId": "42fa2714-478b-417e-f6a0-3eb25a268733"
      },
      "execution_count": null,
      "outputs": [
        {
          "output_type": "stream",
          "name": "stdout",
          "text": [
            "['L_1075', '2', 'd']\n"
          ]
        }
      ]
    },
    {
      "cell_type": "code",
      "source": [
        "lcrat = pd.DataFrame(lcResultsTable,columns=['Lesson ID','Question Number','Returned Answer'])"
      ],
      "metadata": {
        "id": "_jJqXrX2gyRX"
      },
      "execution_count": null,
      "outputs": []
    },
    {
      "cell_type": "code",
      "source": [
        "lcrat.iloc[114]"
      ],
      "metadata": {
        "colab": {
          "base_uri": "https://localhost:8080/"
        },
        "id": "vtfdiFfhkaFv",
        "outputId": "81deafde-f3df-4995-94a8-6460d24e40af"
      },
      "execution_count": null,
      "outputs": [
        {
          "output_type": "execute_result",
          "data": {
            "text/plain": [
              "Lesson ID            L_0149\n",
              "Question Number           1\n",
              "Returned Answer    a) True;\n",
              "Name: 114, dtype: object"
            ]
          },
          "metadata": {},
          "execution_count": 105
        }
      ]
    },
    {
      "cell_type": "code",
      "source": [
        "lcrat.to_csv(\"lcrat.csv\")"
      ],
      "metadata": {
        "id": "RUGaduhdqjxn"
      },
      "execution_count": null,
      "outputs": []
    },
    {
      "cell_type": "code",
      "source": [
        "ncrat = pd.DataFrame(ncResultsTable,columns=['Lesson ID','Question Number','Returned Answer'] )"
      ],
      "metadata": {
        "id": "o2NJCIdyNLLX"
      },
      "execution_count": null,
      "outputs": []
    },
    {
      "cell_type": "code",
      "source": [
        "convert_dict = {'Question Number': int}\n",
        "ncrat = ncrat.astype(convert_dict)"
      ],
      "metadata": {
        "id": "m3YfR5DMNj7P"
      },
      "execution_count": null,
      "outputs": []
    },
    {
      "cell_type": "code",
      "source": [
        "lcrat_clean = lcrat.drop_duplicates(subset = ['Lesson ID','Question Number'],keep='first').reset_index(drop=True)"
      ],
      "metadata": {
        "id": "8kSU1MJI3U_G"
      },
      "execution_count": null,
      "outputs": []
    },
    {
      "cell_type": "code",
      "source": [
        "#fsrat_clean = fsrat_clean[fsrat_clean['Lesson ID'] != 'L_0886']"
      ],
      "metadata": {
        "id": "xLJprE9J5iZ7"
      },
      "execution_count": null,
      "outputs": []
    },
    {
      "cell_type": "code",
      "source": [
        "convert_dict = {'Question Number': int}\n",
        "lcrat_clean = lcrat_clean.astype(convert_dict)"
      ],
      "metadata": {
        "id": "G18Xz0UXdzqj"
      },
      "execution_count": null,
      "outputs": []
    },
    {
      "cell_type": "code",
      "source": [
        "lcrat_clean['Returned Answer'] = lcrat_clean.apply(lambda x:  x['Returned Answer'][0], axis=1)"
      ],
      "metadata": {
        "id": "MZ25E3qauUwa"
      },
      "execution_count": null,
      "outputs": []
    },
    {
      "cell_type": "code",
      "source": [
        "lcrat_clean.iloc[114]"
      ],
      "metadata": {
        "colab": {
          "base_uri": "https://localhost:8080/"
        },
        "id": "4F3vdY4tubox",
        "outputId": "4f1cb8d3-c4c0-455c-8993-20cc40b3a694"
      },
      "execution_count": null,
      "outputs": [
        {
          "output_type": "execute_result",
          "data": {
            "text/plain": [
              "Lesson ID          L_0149\n",
              "Question Number         1\n",
              "Returned Answer         a\n",
              "Name: 114, dtype: object"
            ]
          },
          "metadata": {},
          "execution_count": 107
        }
      ]
    },
    {
      "cell_type": "code",
      "source": [
        "zsrat_clean = pd.read_csv(\"/content/zs_answers_compared.csv\")\n",
        "zsrat = zsrat_clean.drop(['Unnamed: 0','Answer','Is Correct'],axis=1)"
      ],
      "metadata": {
        "id": "qYtHzJfrQqlU"
      },
      "execution_count": null,
      "outputs": []
    },
    {
      "cell_type": "code",
      "source": [
        "ncrat['Returned Answer'] = ncrat.apply(lambda x: 'a' if x['Returned Answer'].lower() == 'true' else 'b' if x['Returned Answer'].lower() == 'false' else x['Returned Answer'], axis=1)"
      ],
      "metadata": {
        "id": "6zDN9UorQCPR"
      },
      "execution_count": null,
      "outputs": []
    },
    {
      "cell_type": "code",
      "source": [
        "ncrat.iloc[114]"
      ],
      "metadata": {
        "id": "JB-_-7Xjbbtv",
        "colab": {
          "base_uri": "https://localhost:8080/"
        },
        "outputId": "a91cc796-083b-41e8-c962-b49fe5e67373"
      },
      "execution_count": null,
      "outputs": [
        {
          "output_type": "execute_result",
          "data": {
            "text/plain": [
              "Lesson ID          L_0445\n",
              "Question Number         2\n",
              "Returned Answer         a\n",
              "Name: 574, dtype: object"
            ]
          },
          "metadata": {},
          "execution_count": 95
        }
      ]
    },
    {
      "cell_type": "code",
      "source": [
        "ncrat['Returned Answer'] = ncrat.apply(lambda x:  x['Returned Answer'][0], axis=1)"
      ],
      "metadata": {
        "id": "hH1JYvN8cEvz"
      },
      "execution_count": null,
      "outputs": []
    },
    {
      "cell_type": "code",
      "source": [
        "lcrat_clean.dtypes"
      ],
      "metadata": {
        "colab": {
          "base_uri": "https://localhost:8080/"
        },
        "id": "WuQ2ZNuuhqdc",
        "outputId": "76a0d5b9-2a18-4e64-92dd-ab50c68c9406"
      },
      "execution_count": null,
      "outputs": [
        {
          "output_type": "execute_result",
          "data": {
            "text/plain": [
              "Lesson ID          object\n",
              "Question Number     int64\n",
              "Returned Answer    object\n",
              "dtype: object"
            ]
          },
          "metadata": {},
          "execution_count": 97
        }
      ]
    },
    {
      "cell_type": "code",
      "source": [
        "lcCompt = lcrat_clean.merge (ncakt,how='inner',left_on=['Lesson ID','Question Number'], right_on=['Lesson ID','Question Number'])"
      ],
      "metadata": {
        "id": "_Q1jI7YSkL0k"
      },
      "execution_count": null,
      "outputs": []
    },
    {
      "cell_type": "code",
      "source": [
        "ncCompt = ncrat.merge (ncakt,how='inner',left_on=['Lesson ID','Question Number'], right_on=['Lesson ID','Question Number'])"
      ],
      "metadata": {
        "id": "xlHEtPLoNssN"
      },
      "execution_count": null,
      "outputs": []
    },
    {
      "cell_type": "code",
      "source": [
        "lcCompt.head(10)"
      ],
      "metadata": {
        "id": "Gv-N3aVPlvJ_",
        "colab": {
          "base_uri": "https://localhost:8080/",
          "height": 363
        },
        "outputId": "d299294e-7a6e-48a5-8688-7278cf5d1b69"
      },
      "execution_count": null,
      "outputs": [
        {
          "output_type": "execute_result",
          "data": {
            "text/plain": [
              "  Lesson ID  Question Number Returned Answer Answer\n",
              "0    L_0005                1               b      b\n",
              "1    L_0005                2               b      b\n",
              "2    L_0005                3               a      a\n",
              "3    L_0005                4               b      b\n",
              "4    L_0005                5               b      b\n",
              "5    L_0005                6               a      a\n",
              "6    L_0005                7               b      b\n",
              "7    L_0005                8               b      b\n",
              "8    L_0005                9               a      a\n",
              "9    L_0005               10               a      a"
            ],
            "text/html": [
              "\n",
              "  <div id=\"df-7584d359-b597-43cf-96b2-d1ec679231b0\">\n",
              "    <div class=\"colab-df-container\">\n",
              "      <div>\n",
              "<style scoped>\n",
              "    .dataframe tbody tr th:only-of-type {\n",
              "        vertical-align: middle;\n",
              "    }\n",
              "\n",
              "    .dataframe tbody tr th {\n",
              "        vertical-align: top;\n",
              "    }\n",
              "\n",
              "    .dataframe thead th {\n",
              "        text-align: right;\n",
              "    }\n",
              "</style>\n",
              "<table border=\"1\" class=\"dataframe\">\n",
              "  <thead>\n",
              "    <tr style=\"text-align: right;\">\n",
              "      <th></th>\n",
              "      <th>Lesson ID</th>\n",
              "      <th>Question Number</th>\n",
              "      <th>Returned Answer</th>\n",
              "      <th>Answer</th>\n",
              "    </tr>\n",
              "  </thead>\n",
              "  <tbody>\n",
              "    <tr>\n",
              "      <th>0</th>\n",
              "      <td>L_0005</td>\n",
              "      <td>1</td>\n",
              "      <td>b</td>\n",
              "      <td>b</td>\n",
              "    </tr>\n",
              "    <tr>\n",
              "      <th>1</th>\n",
              "      <td>L_0005</td>\n",
              "      <td>2</td>\n",
              "      <td>b</td>\n",
              "      <td>b</td>\n",
              "    </tr>\n",
              "    <tr>\n",
              "      <th>2</th>\n",
              "      <td>L_0005</td>\n",
              "      <td>3</td>\n",
              "      <td>a</td>\n",
              "      <td>a</td>\n",
              "    </tr>\n",
              "    <tr>\n",
              "      <th>3</th>\n",
              "      <td>L_0005</td>\n",
              "      <td>4</td>\n",
              "      <td>b</td>\n",
              "      <td>b</td>\n",
              "    </tr>\n",
              "    <tr>\n",
              "      <th>4</th>\n",
              "      <td>L_0005</td>\n",
              "      <td>5</td>\n",
              "      <td>b</td>\n",
              "      <td>b</td>\n",
              "    </tr>\n",
              "    <tr>\n",
              "      <th>5</th>\n",
              "      <td>L_0005</td>\n",
              "      <td>6</td>\n",
              "      <td>a</td>\n",
              "      <td>a</td>\n",
              "    </tr>\n",
              "    <tr>\n",
              "      <th>6</th>\n",
              "      <td>L_0005</td>\n",
              "      <td>7</td>\n",
              "      <td>b</td>\n",
              "      <td>b</td>\n",
              "    </tr>\n",
              "    <tr>\n",
              "      <th>7</th>\n",
              "      <td>L_0005</td>\n",
              "      <td>8</td>\n",
              "      <td>b</td>\n",
              "      <td>b</td>\n",
              "    </tr>\n",
              "    <tr>\n",
              "      <th>8</th>\n",
              "      <td>L_0005</td>\n",
              "      <td>9</td>\n",
              "      <td>a</td>\n",
              "      <td>a</td>\n",
              "    </tr>\n",
              "    <tr>\n",
              "      <th>9</th>\n",
              "      <td>L_0005</td>\n",
              "      <td>10</td>\n",
              "      <td>a</td>\n",
              "      <td>a</td>\n",
              "    </tr>\n",
              "  </tbody>\n",
              "</table>\n",
              "</div>\n",
              "      <button class=\"colab-df-convert\" onclick=\"convertToInteractive('df-7584d359-b597-43cf-96b2-d1ec679231b0')\"\n",
              "              title=\"Convert this dataframe to an interactive table.\"\n",
              "              style=\"display:none;\">\n",
              "        \n",
              "  <svg xmlns=\"http://www.w3.org/2000/svg\" height=\"24px\"viewBox=\"0 0 24 24\"\n",
              "       width=\"24px\">\n",
              "    <path d=\"M0 0h24v24H0V0z\" fill=\"none\"/>\n",
              "    <path d=\"M18.56 5.44l.94 2.06.94-2.06 2.06-.94-2.06-.94-.94-2.06-.94 2.06-2.06.94zm-11 1L8.5 8.5l.94-2.06 2.06-.94-2.06-.94L8.5 2.5l-.94 2.06-2.06.94zm10 10l.94 2.06.94-2.06 2.06-.94-2.06-.94-.94-2.06-.94 2.06-2.06.94z\"/><path d=\"M17.41 7.96l-1.37-1.37c-.4-.4-.92-.59-1.43-.59-.52 0-1.04.2-1.43.59L10.3 9.45l-7.72 7.72c-.78.78-.78 2.05 0 2.83L4 21.41c.39.39.9.59 1.41.59.51 0 1.02-.2 1.41-.59l7.78-7.78 2.81-2.81c.8-.78.8-2.07 0-2.86zM5.41 20L4 18.59l7.72-7.72 1.47 1.35L5.41 20z\"/>\n",
              "  </svg>\n",
              "      </button>\n",
              "      \n",
              "  <style>\n",
              "    .colab-df-container {\n",
              "      display:flex;\n",
              "      flex-wrap:wrap;\n",
              "      gap: 12px;\n",
              "    }\n",
              "\n",
              "    .colab-df-convert {\n",
              "      background-color: #E8F0FE;\n",
              "      border: none;\n",
              "      border-radius: 50%;\n",
              "      cursor: pointer;\n",
              "      display: none;\n",
              "      fill: #1967D2;\n",
              "      height: 32px;\n",
              "      padding: 0 0 0 0;\n",
              "      width: 32px;\n",
              "    }\n",
              "\n",
              "    .colab-df-convert:hover {\n",
              "      background-color: #E2EBFA;\n",
              "      box-shadow: 0px 1px 2px rgba(60, 64, 67, 0.3), 0px 1px 3px 1px rgba(60, 64, 67, 0.15);\n",
              "      fill: #174EA6;\n",
              "    }\n",
              "\n",
              "    [theme=dark] .colab-df-convert {\n",
              "      background-color: #3B4455;\n",
              "      fill: #D2E3FC;\n",
              "    }\n",
              "\n",
              "    [theme=dark] .colab-df-convert:hover {\n",
              "      background-color: #434B5C;\n",
              "      box-shadow: 0px 1px 3px 1px rgba(0, 0, 0, 0.15);\n",
              "      filter: drop-shadow(0px 1px 2px rgba(0, 0, 0, 0.3));\n",
              "      fill: #FFFFFF;\n",
              "    }\n",
              "  </style>\n",
              "\n",
              "      <script>\n",
              "        const buttonEl =\n",
              "          document.querySelector('#df-7584d359-b597-43cf-96b2-d1ec679231b0 button.colab-df-convert');\n",
              "        buttonEl.style.display =\n",
              "          google.colab.kernel.accessAllowed ? 'block' : 'none';\n",
              "\n",
              "        async function convertToInteractive(key) {\n",
              "          const element = document.querySelector('#df-7584d359-b597-43cf-96b2-d1ec679231b0');\n",
              "          const dataTable =\n",
              "            await google.colab.kernel.invokeFunction('convertToInteractive',\n",
              "                                                     [key], {});\n",
              "          if (!dataTable) return;\n",
              "\n",
              "          const docLinkHtml = 'Like what you see? Visit the ' +\n",
              "            '<a target=\"_blank\" href=https://colab.research.google.com/notebooks/data_table.ipynb>data table notebook</a>'\n",
              "            + ' to learn more about interactive tables.';\n",
              "          element.innerHTML = '';\n",
              "          dataTable['output_type'] = 'display_data';\n",
              "          await google.colab.output.renderOutput(dataTable, element);\n",
              "          const docLink = document.createElement('div');\n",
              "          docLink.innerHTML = docLinkHtml;\n",
              "          element.appendChild(docLink);\n",
              "        }\n",
              "      </script>\n",
              "    </div>\n",
              "  </div>\n",
              "  "
            ]
          },
          "metadata": {},
          "execution_count": 100
        }
      ]
    },
    {
      "cell_type": "code",
      "source": [
        "lcCompt['Is Correct'] = lcCompt.apply(lambda x: x['Answer'] == x['Returned Answer'], axis=1)"
      ],
      "metadata": {
        "id": "WahGfTITnJo-"
      },
      "execution_count": null,
      "outputs": []
    },
    {
      "cell_type": "code",
      "source": [
        "ncCompt['Is Correct'] = ncCompt.apply(lambda x: x['Answer'] == x['Returned Answer'], axis=1)"
      ],
      "metadata": {
        "id": "13uD3RyyN4tu"
      },
      "execution_count": null,
      "outputs": []
    },
    {
      "cell_type": "code",
      "source": [
        "zsCompt.head(20)"
      ],
      "metadata": {
        "id": "fHnB1XSjTS32"
      },
      "execution_count": null,
      "outputs": []
    },
    {
      "cell_type": "markdown",
      "source": [
        "Zero Shot Accuracy"
      ],
      "metadata": {
        "id": "85Xr9f2gRSsH"
      }
    },
    {
      "cell_type": "code",
      "source": [
        "len(ncCompt[ncCompt['Is Correct']==True])/len(ncCompt)"
      ],
      "metadata": {
        "id": "bfKpyPZ1OE3G",
        "colab": {
          "base_uri": "https://localhost:8080/"
        },
        "outputId": "d4002810-9e32-4f8d-a386-2f0d958114e5"
      },
      "execution_count": null,
      "outputs": [
        {
          "output_type": "execute_result",
          "data": {
            "text/plain": [
              "0.7057569296375267"
            ]
          },
          "metadata": {},
          "execution_count": 103
        }
      ]
    },
    {
      "cell_type": "code",
      "source": [
        "compt.to_csv(\"fs_answers_compared.csv\")\n",
        "zsCompt.to_csv(\"zs_answers_compared.csv\")"
      ],
      "metadata": {
        "id": "GOXC5ibivleQ"
      },
      "execution_count": null,
      "outputs": []
    },
    {
      "cell_type": "code",
      "source": [
        "fsCompt = pd.read_csv(\"/content/fs_answers_compared_fixed_playground.csv\")"
      ],
      "metadata": {
        "id": "6d69yayBjaQZ"
      },
      "execution_count": null,
      "outputs": []
    },
    {
      "cell_type": "markdown",
      "source": [
        "Few Shot Accuracy"
      ],
      "metadata": {
        "id": "OnID7rWyRW0t"
      }
    },
    {
      "cell_type": "code",
      "source": [
        "len(lcCompt[lcCompt['Is Correct']==1])/len(lcCompt)"
      ],
      "metadata": {
        "colab": {
          "base_uri": "https://localhost:8080/"
        },
        "id": "yqFNiSzVkaOC",
        "outputId": "1aad560f-a683-4b7c-e08d-d3a6a8a398ef"
      },
      "execution_count": null,
      "outputs": [
        {
          "output_type": "execute_result",
          "data": {
            "text/plain": [
              "0.8179775280898877"
            ]
          },
          "metadata": {},
          "execution_count": 110
        }
      ]
    },
    {
      "cell_type": "code",
      "source": [
        "zsCompt.head(10)"
      ],
      "metadata": {
        "colab": {
          "base_uri": "https://localhost:8080/",
          "height": 322
        },
        "id": "p6P3s1o-qXi3",
        "outputId": "f1f174ce-7ef5-490f-a44f-6111ac07b2c6"
      },
      "execution_count": null,
      "outputs": [
        {
          "output_type": "execute_result",
          "data": {
            "text/plain": [
              "  Lesson ID  Question Number Returned Answer Answer  Is Correct\n",
              "0    L_0007                1               d      b       False\n",
              "1    L_0007                2               d      d        True\n",
              "2    L_0007                3               d      c       False\n",
              "3    L_0007                4               c      c        True\n",
              "4    L_0007                5               d      a       False\n",
              "5    L_0007                6               d      d        True\n",
              "6    L_0007                7               d      d        True\n",
              "7    L_0007                8               c      c        True\n",
              "8    L_0007                9               c      c        True\n",
              "9    L_0007               10               a      b       False"
            ],
            "text/html": [
              "\n",
              "  <div id=\"df-61ba23a3-0339-402f-81fb-7d64c86532d2\">\n",
              "    <div class=\"colab-df-container\">\n",
              "      <div>\n",
              "<style scoped>\n",
              "    .dataframe tbody tr th:only-of-type {\n",
              "        vertical-align: middle;\n",
              "    }\n",
              "\n",
              "    .dataframe tbody tr th {\n",
              "        vertical-align: top;\n",
              "    }\n",
              "\n",
              "    .dataframe thead th {\n",
              "        text-align: right;\n",
              "    }\n",
              "</style>\n",
              "<table border=\"1\" class=\"dataframe\">\n",
              "  <thead>\n",
              "    <tr style=\"text-align: right;\">\n",
              "      <th></th>\n",
              "      <th>Lesson ID</th>\n",
              "      <th>Question Number</th>\n",
              "      <th>Returned Answer</th>\n",
              "      <th>Answer</th>\n",
              "      <th>Is Correct</th>\n",
              "    </tr>\n",
              "  </thead>\n",
              "  <tbody>\n",
              "    <tr>\n",
              "      <th>0</th>\n",
              "      <td>L_0007</td>\n",
              "      <td>1</td>\n",
              "      <td>d</td>\n",
              "      <td>b</td>\n",
              "      <td>False</td>\n",
              "    </tr>\n",
              "    <tr>\n",
              "      <th>1</th>\n",
              "      <td>L_0007</td>\n",
              "      <td>2</td>\n",
              "      <td>d</td>\n",
              "      <td>d</td>\n",
              "      <td>True</td>\n",
              "    </tr>\n",
              "    <tr>\n",
              "      <th>2</th>\n",
              "      <td>L_0007</td>\n",
              "      <td>3</td>\n",
              "      <td>d</td>\n",
              "      <td>c</td>\n",
              "      <td>False</td>\n",
              "    </tr>\n",
              "    <tr>\n",
              "      <th>3</th>\n",
              "      <td>L_0007</td>\n",
              "      <td>4</td>\n",
              "      <td>c</td>\n",
              "      <td>c</td>\n",
              "      <td>True</td>\n",
              "    </tr>\n",
              "    <tr>\n",
              "      <th>4</th>\n",
              "      <td>L_0007</td>\n",
              "      <td>5</td>\n",
              "      <td>d</td>\n",
              "      <td>a</td>\n",
              "      <td>False</td>\n",
              "    </tr>\n",
              "    <tr>\n",
              "      <th>5</th>\n",
              "      <td>L_0007</td>\n",
              "      <td>6</td>\n",
              "      <td>d</td>\n",
              "      <td>d</td>\n",
              "      <td>True</td>\n",
              "    </tr>\n",
              "    <tr>\n",
              "      <th>6</th>\n",
              "      <td>L_0007</td>\n",
              "      <td>7</td>\n",
              "      <td>d</td>\n",
              "      <td>d</td>\n",
              "      <td>True</td>\n",
              "    </tr>\n",
              "    <tr>\n",
              "      <th>7</th>\n",
              "      <td>L_0007</td>\n",
              "      <td>8</td>\n",
              "      <td>c</td>\n",
              "      <td>c</td>\n",
              "      <td>True</td>\n",
              "    </tr>\n",
              "    <tr>\n",
              "      <th>8</th>\n",
              "      <td>L_0007</td>\n",
              "      <td>9</td>\n",
              "      <td>c</td>\n",
              "      <td>c</td>\n",
              "      <td>True</td>\n",
              "    </tr>\n",
              "    <tr>\n",
              "      <th>9</th>\n",
              "      <td>L_0007</td>\n",
              "      <td>10</td>\n",
              "      <td>a</td>\n",
              "      <td>b</td>\n",
              "      <td>False</td>\n",
              "    </tr>\n",
              "  </tbody>\n",
              "</table>\n",
              "</div>\n",
              "      <button class=\"colab-df-convert\" onclick=\"convertToInteractive('df-61ba23a3-0339-402f-81fb-7d64c86532d2')\"\n",
              "              title=\"Convert this dataframe to an interactive table.\"\n",
              "              style=\"display:none;\">\n",
              "        \n",
              "  <svg xmlns=\"http://www.w3.org/2000/svg\" height=\"24px\"viewBox=\"0 0 24 24\"\n",
              "       width=\"24px\">\n",
              "    <path d=\"M0 0h24v24H0V0z\" fill=\"none\"/>\n",
              "    <path d=\"M18.56 5.44l.94 2.06.94-2.06 2.06-.94-2.06-.94-.94-2.06-.94 2.06-2.06.94zm-11 1L8.5 8.5l.94-2.06 2.06-.94-2.06-.94L8.5 2.5l-.94 2.06-2.06.94zm10 10l.94 2.06.94-2.06 2.06-.94-2.06-.94-.94-2.06-.94 2.06-2.06.94z\"/><path d=\"M17.41 7.96l-1.37-1.37c-.4-.4-.92-.59-1.43-.59-.52 0-1.04.2-1.43.59L10.3 9.45l-7.72 7.72c-.78.78-.78 2.05 0 2.83L4 21.41c.39.39.9.59 1.41.59.51 0 1.02-.2 1.41-.59l7.78-7.78 2.81-2.81c.8-.78.8-2.07 0-2.86zM5.41 20L4 18.59l7.72-7.72 1.47 1.35L5.41 20z\"/>\n",
              "  </svg>\n",
              "      </button>\n",
              "      \n",
              "  <style>\n",
              "    .colab-df-container {\n",
              "      display:flex;\n",
              "      flex-wrap:wrap;\n",
              "      gap: 12px;\n",
              "    }\n",
              "\n",
              "    .colab-df-convert {\n",
              "      background-color: #E8F0FE;\n",
              "      border: none;\n",
              "      border-radius: 50%;\n",
              "      cursor: pointer;\n",
              "      display: none;\n",
              "      fill: #1967D2;\n",
              "      height: 32px;\n",
              "      padding: 0 0 0 0;\n",
              "      width: 32px;\n",
              "    }\n",
              "\n",
              "    .colab-df-convert:hover {\n",
              "      background-color: #E2EBFA;\n",
              "      box-shadow: 0px 1px 2px rgba(60, 64, 67, 0.3), 0px 1px 3px 1px rgba(60, 64, 67, 0.15);\n",
              "      fill: #174EA6;\n",
              "    }\n",
              "\n",
              "    [theme=dark] .colab-df-convert {\n",
              "      background-color: #3B4455;\n",
              "      fill: #D2E3FC;\n",
              "    }\n",
              "\n",
              "    [theme=dark] .colab-df-convert:hover {\n",
              "      background-color: #434B5C;\n",
              "      box-shadow: 0px 1px 3px 1px rgba(0, 0, 0, 0.15);\n",
              "      filter: drop-shadow(0px 1px 2px rgba(0, 0, 0, 0.3));\n",
              "      fill: #FFFFFF;\n",
              "    }\n",
              "  </style>\n",
              "\n",
              "      <script>\n",
              "        const buttonEl =\n",
              "          document.querySelector('#df-61ba23a3-0339-402f-81fb-7d64c86532d2 button.colab-df-convert');\n",
              "        buttonEl.style.display =\n",
              "          google.colab.kernel.accessAllowed ? 'block' : 'none';\n",
              "\n",
              "        async function convertToInteractive(key) {\n",
              "          const element = document.querySelector('#df-61ba23a3-0339-402f-81fb-7d64c86532d2');\n",
              "          const dataTable =\n",
              "            await google.colab.kernel.invokeFunction('convertToInteractive',\n",
              "                                                     [key], {});\n",
              "          if (!dataTable) return;\n",
              "\n",
              "          const docLinkHtml = 'Like what you see? Visit the ' +\n",
              "            '<a target=\"_blank\" href=https://colab.research.google.com/notebooks/data_table.ipynb>data table notebook</a>'\n",
              "            + ' to learn more about interactive tables.';\n",
              "          element.innerHTML = '';\n",
              "          dataTable['output_type'] = 'display_data';\n",
              "          await google.colab.output.renderOutput(dataTable, element);\n",
              "          const docLink = document.createElement('div');\n",
              "          docLink.innerHTML = docLinkHtml;\n",
              "          element.appendChild(docLink);\n",
              "        }\n",
              "      </script>\n",
              "    </div>\n",
              "  </div>\n",
              "  "
            ]
          },
          "metadata": {},
          "execution_count": 217
        }
      ]
    },
    {
      "cell_type": "code",
      "source": [
        "combined_results_table = zsCompt.merge (fsCompt,how='inner',left_on=['Lesson ID','Question Number'], right_on=['Lesson ID','Question Number'],suffixes=('_zs','_fs'))"
      ],
      "metadata": {
        "id": "iNcp6o8Dh4L5"
      },
      "execution_count": null,
      "outputs": []
    },
    {
      "cell_type": "code",
      "source": [
        "combined_results_table.head(10)"
      ],
      "metadata": {
        "colab": {
          "base_uri": "https://localhost:8080/",
          "height": 363
        },
        "id": "zjwEk8_FriAy",
        "outputId": "df39abde-65d8-4a53-a62e-fef5e6ae24a1"
      },
      "execution_count": null,
      "outputs": [
        {
          "output_type": "execute_result",
          "data": {
            "text/plain": [
              "  Lesson ID  Question Number Returned Answer_zs Answer_zs  Is Correct_zs  \\\n",
              "0    L_0007                1                  d         b          False   \n",
              "1    L_0007                2                  d         d           True   \n",
              "2    L_0007                3                  d         c          False   \n",
              "3    L_0007                4                  c         c           True   \n",
              "4    L_0007                5                  d         a          False   \n",
              "5    L_0007                6                  d         d           True   \n",
              "6    L_0007                7                  d         d           True   \n",
              "7    L_0007                8                  c         c           True   \n",
              "8    L_0007                9                  c         c           True   \n",
              "9    L_0007               10                  a         b          False   \n",
              "\n",
              "  Returned Answer_fs Answer_fs  Is Correct_fs  \n",
              "0                  d         b          False  \n",
              "1                  d         d           True  \n",
              "2                  d         c          False  \n",
              "3                  c         c           True  \n",
              "4                  a         a           True  \n",
              "5                  d         d           True  \n",
              "6                  d         d           True  \n",
              "7                  c         c           True  \n",
              "8                  c         c           True  \n",
              "9                  b         b           True  "
            ],
            "text/html": [
              "\n",
              "  <div id=\"df-b0a49d93-150c-49f3-af5f-53fa8c7f0bb3\">\n",
              "    <div class=\"colab-df-container\">\n",
              "      <div>\n",
              "<style scoped>\n",
              "    .dataframe tbody tr th:only-of-type {\n",
              "        vertical-align: middle;\n",
              "    }\n",
              "\n",
              "    .dataframe tbody tr th {\n",
              "        vertical-align: top;\n",
              "    }\n",
              "\n",
              "    .dataframe thead th {\n",
              "        text-align: right;\n",
              "    }\n",
              "</style>\n",
              "<table border=\"1\" class=\"dataframe\">\n",
              "  <thead>\n",
              "    <tr style=\"text-align: right;\">\n",
              "      <th></th>\n",
              "      <th>Lesson ID</th>\n",
              "      <th>Question Number</th>\n",
              "      <th>Returned Answer_zs</th>\n",
              "      <th>Answer_zs</th>\n",
              "      <th>Is Correct_zs</th>\n",
              "      <th>Returned Answer_fs</th>\n",
              "      <th>Answer_fs</th>\n",
              "      <th>Is Correct_fs</th>\n",
              "    </tr>\n",
              "  </thead>\n",
              "  <tbody>\n",
              "    <tr>\n",
              "      <th>0</th>\n",
              "      <td>L_0007</td>\n",
              "      <td>1</td>\n",
              "      <td>d</td>\n",
              "      <td>b</td>\n",
              "      <td>False</td>\n",
              "      <td>d</td>\n",
              "      <td>b</td>\n",
              "      <td>False</td>\n",
              "    </tr>\n",
              "    <tr>\n",
              "      <th>1</th>\n",
              "      <td>L_0007</td>\n",
              "      <td>2</td>\n",
              "      <td>d</td>\n",
              "      <td>d</td>\n",
              "      <td>True</td>\n",
              "      <td>d</td>\n",
              "      <td>d</td>\n",
              "      <td>True</td>\n",
              "    </tr>\n",
              "    <tr>\n",
              "      <th>2</th>\n",
              "      <td>L_0007</td>\n",
              "      <td>3</td>\n",
              "      <td>d</td>\n",
              "      <td>c</td>\n",
              "      <td>False</td>\n",
              "      <td>d</td>\n",
              "      <td>c</td>\n",
              "      <td>False</td>\n",
              "    </tr>\n",
              "    <tr>\n",
              "      <th>3</th>\n",
              "      <td>L_0007</td>\n",
              "      <td>4</td>\n",
              "      <td>c</td>\n",
              "      <td>c</td>\n",
              "      <td>True</td>\n",
              "      <td>c</td>\n",
              "      <td>c</td>\n",
              "      <td>True</td>\n",
              "    </tr>\n",
              "    <tr>\n",
              "      <th>4</th>\n",
              "      <td>L_0007</td>\n",
              "      <td>5</td>\n",
              "      <td>d</td>\n",
              "      <td>a</td>\n",
              "      <td>False</td>\n",
              "      <td>a</td>\n",
              "      <td>a</td>\n",
              "      <td>True</td>\n",
              "    </tr>\n",
              "    <tr>\n",
              "      <th>5</th>\n",
              "      <td>L_0007</td>\n",
              "      <td>6</td>\n",
              "      <td>d</td>\n",
              "      <td>d</td>\n",
              "      <td>True</td>\n",
              "      <td>d</td>\n",
              "      <td>d</td>\n",
              "      <td>True</td>\n",
              "    </tr>\n",
              "    <tr>\n",
              "      <th>6</th>\n",
              "      <td>L_0007</td>\n",
              "      <td>7</td>\n",
              "      <td>d</td>\n",
              "      <td>d</td>\n",
              "      <td>True</td>\n",
              "      <td>d</td>\n",
              "      <td>d</td>\n",
              "      <td>True</td>\n",
              "    </tr>\n",
              "    <tr>\n",
              "      <th>7</th>\n",
              "      <td>L_0007</td>\n",
              "      <td>8</td>\n",
              "      <td>c</td>\n",
              "      <td>c</td>\n",
              "      <td>True</td>\n",
              "      <td>c</td>\n",
              "      <td>c</td>\n",
              "      <td>True</td>\n",
              "    </tr>\n",
              "    <tr>\n",
              "      <th>8</th>\n",
              "      <td>L_0007</td>\n",
              "      <td>9</td>\n",
              "      <td>c</td>\n",
              "      <td>c</td>\n",
              "      <td>True</td>\n",
              "      <td>c</td>\n",
              "      <td>c</td>\n",
              "      <td>True</td>\n",
              "    </tr>\n",
              "    <tr>\n",
              "      <th>9</th>\n",
              "      <td>L_0007</td>\n",
              "      <td>10</td>\n",
              "      <td>a</td>\n",
              "      <td>b</td>\n",
              "      <td>False</td>\n",
              "      <td>b</td>\n",
              "      <td>b</td>\n",
              "      <td>True</td>\n",
              "    </tr>\n",
              "  </tbody>\n",
              "</table>\n",
              "</div>\n",
              "      <button class=\"colab-df-convert\" onclick=\"convertToInteractive('df-b0a49d93-150c-49f3-af5f-53fa8c7f0bb3')\"\n",
              "              title=\"Convert this dataframe to an interactive table.\"\n",
              "              style=\"display:none;\">\n",
              "        \n",
              "  <svg xmlns=\"http://www.w3.org/2000/svg\" height=\"24px\"viewBox=\"0 0 24 24\"\n",
              "       width=\"24px\">\n",
              "    <path d=\"M0 0h24v24H0V0z\" fill=\"none\"/>\n",
              "    <path d=\"M18.56 5.44l.94 2.06.94-2.06 2.06-.94-2.06-.94-.94-2.06-.94 2.06-2.06.94zm-11 1L8.5 8.5l.94-2.06 2.06-.94-2.06-.94L8.5 2.5l-.94 2.06-2.06.94zm10 10l.94 2.06.94-2.06 2.06-.94-2.06-.94-.94-2.06-.94 2.06-2.06.94z\"/><path d=\"M17.41 7.96l-1.37-1.37c-.4-.4-.92-.59-1.43-.59-.52 0-1.04.2-1.43.59L10.3 9.45l-7.72 7.72c-.78.78-.78 2.05 0 2.83L4 21.41c.39.39.9.59 1.41.59.51 0 1.02-.2 1.41-.59l7.78-7.78 2.81-2.81c.8-.78.8-2.07 0-2.86zM5.41 20L4 18.59l7.72-7.72 1.47 1.35L5.41 20z\"/>\n",
              "  </svg>\n",
              "      </button>\n",
              "      \n",
              "  <style>\n",
              "    .colab-df-container {\n",
              "      display:flex;\n",
              "      flex-wrap:wrap;\n",
              "      gap: 12px;\n",
              "    }\n",
              "\n",
              "    .colab-df-convert {\n",
              "      background-color: #E8F0FE;\n",
              "      border: none;\n",
              "      border-radius: 50%;\n",
              "      cursor: pointer;\n",
              "      display: none;\n",
              "      fill: #1967D2;\n",
              "      height: 32px;\n",
              "      padding: 0 0 0 0;\n",
              "      width: 32px;\n",
              "    }\n",
              "\n",
              "    .colab-df-convert:hover {\n",
              "      background-color: #E2EBFA;\n",
              "      box-shadow: 0px 1px 2px rgba(60, 64, 67, 0.3), 0px 1px 3px 1px rgba(60, 64, 67, 0.15);\n",
              "      fill: #174EA6;\n",
              "    }\n",
              "\n",
              "    [theme=dark] .colab-df-convert {\n",
              "      background-color: #3B4455;\n",
              "      fill: #D2E3FC;\n",
              "    }\n",
              "\n",
              "    [theme=dark] .colab-df-convert:hover {\n",
              "      background-color: #434B5C;\n",
              "      box-shadow: 0px 1px 3px 1px rgba(0, 0, 0, 0.15);\n",
              "      filter: drop-shadow(0px 1px 2px rgba(0, 0, 0, 0.3));\n",
              "      fill: #FFFFFF;\n",
              "    }\n",
              "  </style>\n",
              "\n",
              "      <script>\n",
              "        const buttonEl =\n",
              "          document.querySelector('#df-b0a49d93-150c-49f3-af5f-53fa8c7f0bb3 button.colab-df-convert');\n",
              "        buttonEl.style.display =\n",
              "          google.colab.kernel.accessAllowed ? 'block' : 'none';\n",
              "\n",
              "        async function convertToInteractive(key) {\n",
              "          const element = document.querySelector('#df-b0a49d93-150c-49f3-af5f-53fa8c7f0bb3');\n",
              "          const dataTable =\n",
              "            await google.colab.kernel.invokeFunction('convertToInteractive',\n",
              "                                                     [key], {});\n",
              "          if (!dataTable) return;\n",
              "\n",
              "          const docLinkHtml = 'Like what you see? Visit the ' +\n",
              "            '<a target=\"_blank\" href=https://colab.research.google.com/notebooks/data_table.ipynb>data table notebook</a>'\n",
              "            + ' to learn more about interactive tables.';\n",
              "          element.innerHTML = '';\n",
              "          dataTable['output_type'] = 'display_data';\n",
              "          await google.colab.output.renderOutput(dataTable, element);\n",
              "          const docLink = document.createElement('div');\n",
              "          docLink.innerHTML = docLinkHtml;\n",
              "          element.appendChild(docLink);\n",
              "        }\n",
              "      </script>\n",
              "    </div>\n",
              "  </div>\n",
              "  "
            ]
          },
          "metadata": {},
          "execution_count": 312
        }
      ]
    },
    {
      "cell_type": "code",
      "source": [],
      "metadata": {
        "id": "2dcM4Zter6bD"
      },
      "execution_count": null,
      "outputs": []
    },
    {
      "cell_type": "code",
      "source": [
        "combined_results_table.nunique()"
      ],
      "metadata": {
        "colab": {
          "base_uri": "https://localhost:8080/"
        },
        "id": "ZYFGYTp2i8tc",
        "outputId": "21418654-b1fc-458b-d0e5-e8312eb762ba"
      },
      "execution_count": null,
      "outputs": [
        {
          "output_type": "execute_result",
          "data": {
            "text/plain": [
              "Lesson ID             179\n",
              "Question Number        34\n",
              "Returned Answer_zs     11\n",
              "Answer_zs               7\n",
              "Is Correct_zs           2\n",
              "Returned Answer_fs     10\n",
              "Answer_fs               7\n",
              "Is Correct_fs           2\n",
              "dtype: int64"
            ]
          },
          "metadata": {},
          "execution_count": 329
        }
      ]
    },
    {
      "cell_type": "code",
      "source": [
        "len(combined_results_table)"
      ],
      "metadata": {
        "colab": {
          "base_uri": "https://localhost:8080/"
        },
        "id": "rlLqKoAKRgbC",
        "outputId": "5db09aed-955e-4ed4-9463-2b81b49e5756"
      },
      "execution_count": null,
      "outputs": [
        {
          "output_type": "execute_result",
          "data": {
            "text/plain": [
              "2254"
            ]
          },
          "metadata": {},
          "execution_count": 322
        }
      ]
    },
    {
      "cell_type": "markdown",
      "source": [
        "**Comparison of Accuracy for the common questions**"
      ],
      "metadata": {
        "id": "fQffo-erShyd"
      }
    },
    {
      "cell_type": "code",
      "source": [
        "print(\"Zero Shot Accuracy: \" + str(len(combined_results_table[combined_results_table['Is Correct_zs']==True])/len(combined_results_table)) + \"  Few Shot Accuracy: \" + str(len(combined_results_table[combined_results_table['Is Correct_fs']==True])/len(combined_results_table)))"
      ],
      "metadata": {
        "colab": {
          "base_uri": "https://localhost:8080/"
        },
        "id": "qpkYBEsCRwOh",
        "outputId": "af70f915-9c48-4204-8869-34144bb23030"
      },
      "execution_count": null,
      "outputs": [
        {
          "output_type": "stream",
          "name": "stdout",
          "text": [
            "Zero Shot Accuracy: 0.7275953859804791  Few Shot Accuracy: 0.8478260869565217\n"
          ]
        }
      ]
    },
    {
      "cell_type": "code",
      "source": [
        "combined_results_table.to_csv(\"combined_results_final.csv\")"
      ],
      "metadata": {
        "id": "pgSBjBOtsOmf"
      },
      "execution_count": null,
      "outputs": []
    }
  ]
}